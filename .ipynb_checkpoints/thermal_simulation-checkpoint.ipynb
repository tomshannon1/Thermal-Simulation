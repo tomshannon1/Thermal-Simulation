{
 "cells": [
  {
   "cell_type": "code",
   "execution_count": 5,
   "metadata": {},
   "outputs": [
    {
     "name": "stdout",
     "output_type": "stream",
     "text": [
      "Populating the interactive namespace from numpy and matplotlib\n"
     ]
    }
   ],
   "source": [
    "%pylab inline \n",
    "from itertools import product, combinations\n",
    "from scipy.integrate import odeint\n",
    "\n",
    "from matplotlib import animation"
   ]
  },
  {
   "cell_type": "code",
   "execution_count": 6,
   "metadata": {},
   "outputs": [],
   "source": [
    "# Solar cells material infromation\n",
    "solarCell_absorption = 0.92\n",
    "solarCell_emissivity = 0.88\n",
    "\n",
    "# PCB material information\n",
    "pcb_absorption = 0.92\n",
    "pcb_emissivity = 0.85\n",
    "\n",
    "# Average absorption and emissivity\n",
    "absorption = (solarCell_absorption * 0.865) + (pcb_absorption * 0.135)\n",
    "emissivity = (solarCell_emissivity * 0.865) + (pcb_emissivity * 0.135)\n",
    "\n",
    "# Total area consisting of six faces (in cm)\n",
    "area = 0.01\n",
    "\n",
    "# Specific heat\n",
    "c = 5.0\n",
    "c1 = 265.0\n",
    "c2 = 170.0\n",
    "\n",
    "# FLux (W/m^2)\n",
    "solar_flux = 1367\n",
    "albedo = 406\n",
    "\n",
    "# Stefan Boltzmann Constant\n",
    "stefan = 5.67e-8"
   ]
  },
  {
   "cell_type": "code",
   "execution_count": 7,
   "metadata": {},
   "outputs": [],
   "source": [
    "# Setting up temperature matrix\n",
    "rows = 30\n",
    "columns = 30\n",
    "\n",
    "# Set time scale and initial conditions\n",
    "t = linspace(0, 100, 1000)\n",
    "x = linspace(0, 10, rows)\n",
    "y = linspace(-10, 0, columns)\n",
    "\n",
    "# Set up differentials \n",
    "dx = x[1] - x[0]\n",
    "dy = y[1] - y[0]\n",
    "\n",
    "# Make mesh grid\n",
    "\n",
    "xx, yy = meshgrid(x, y)"
   ]
  },
  {
   "cell_type": "code",
   "execution_count": 8,
   "metadata": {},
   "outputs": [],
   "source": [
    "def calcLaplacian(state, t, dx, dy):\n",
    "    \n",
    "    # Heat capacity = 8.5\n",
    "    c = 8.5\n",
    "    \n",
    "    # Angle normal to sun \n",
    "    theta = t % 2*pi\n",
    "    \n",
    "    # Unpack state\n",
    "    state = state.reshape((rows, columns))\n",
    "    Ta = zeros((rows+2, columns+2))\n",
    "    Ta[1:-1, 1:-1] = state\n",
    "    \n",
    "    # Insulated bouundary conditions \n",
    "    Ta[0, :] = Ta[1, :]\n",
    "    Ta[-1,:] = Ta[-2,:]\n",
    "    Ta[:,-1] = Ta[:,-2]\n",
    "    Ta[:, 0] = Ta[:, 1]\n",
    "    \n",
    "    # Heat flux in and out\n",
    "    powerIn1 = c * solar_flux * area * cos(theta - pi/2) * (theta < pi) * absorption\n",
    "    powerOut1 = stefan * emissivity * state[0, :]**4 * area\n",
    "    \n",
    "    powerIn2 = c * solar_flux * area * cos(theta) * (theta < (pi/2) or theta > (3*pi/2)) * absorption\n",
    "    powerOut2 = stefan * emissivity * state[:, 0]**4 * area\n",
    "    \n",
    "    powerIn3 = c * albedo * area * absorption \n",
    "    powerOut3 = stefan * emissivity * state[-1, :]**4 * area\n",
    "    \n",
    "    powerIn4 = c * solar_flux * area * cos(theta - pi) * (theta > pi/2 and theta < (3*pi/2)) * absorption\n",
    "    powerOut4 = stefan * emissivity * state[:, -1]**4 * area\n",
    "    \n",
    "    # Apply fluxes to boundary conditions\n",
    "    Ta[0, 1:-1] = powerIn1 + c1 - powerOut1\n",
    "    Ta[1:-1, 0] = powerIn2 + c1 - powerOut2\n",
    "    Ta[-1, 1:-1] = powerIn3 + c2 - powerOut3\n",
    "    Ta[1:-1, -1] = powerIn4 + c1  - powerOut4\n",
    "    \n",
    "    # Seperated partial derivative for laplacian of temperature\n",
    "    partialXX = ((Ta[:, :-2] - 2*Ta[:,1:-1] + Ta[:, 2:])) / dx**2\n",
    "    partialYY = ((Ta[:-2,:] - 2*Ta[1:-1, :] + Ta[2:, :])) / dy**2\n",
    "    \n",
    "    laplacian = partialXX[1:-1,  :] + partialYY[:, 1:-1]\n",
    "    laplacian.reshape((-1,))\n",
    "    \n",
    "    dcdt = laplacian\n",
    "    \n",
    "    return dcdt.reshape(-1)"
   ]
  },
  {
   "cell_type": "code",
   "execution_count": 9,
   "metadata": {},
   "outputs": [],
   "source": [
    "# Use odeint to solve system \n",
    "T0 = xx\n",
    "ans2 = odeint(calcLaplacian, T0.reshape((-1,)), t, (dx, dy))"
   ]
  },
  {
   "cell_type": "code",
   "execution_count": 10,
   "metadata": {},
   "outputs": [
    {
     "data": {
      "text/plain": [
       "<matplotlib.animation.FuncAnimation at 0x12a46bc50>"
      ]
     },
     "execution_count": 10,
     "metadata": {},
     "output_type": "execute_result"
    },
    {
     "data": {
      "image/png": "[encoded data removed]",
      "text/plain": [
       "<Figure size 432x432 with 2 Axes>"
      ]
     },
     "metadata": {
      "needs_background": "light"
     },
     "output_type": "display_data"
    }
   ],
   "source": [
    "fig = figure(figsize = (6,6))\n",
    "xlabel(\"x\")\n",
    "ylabel(\"T\")\n",
    "\n",
    "im = plt.imshow(ans2[99].reshape((rows, columns)), interpolation = 'none')\n",
    "colorbar()\n",
    "\n",
    "avg_maxTemp = 0\n",
    "avg_minTemp = 0\n",
    "\n",
    "# Animate results from odeint\n",
    "def animate(i):\n",
    "    im.set_data(ans2[i].reshape((rows, columns)))\n",
    "    return im,\n",
    "\n",
    "animation.FuncAnimation(fig, animate, frames = 150, interval = 60, blit = True)\n"
   ]
  },
  {
   "cell_type": "code",
   "execution_count": null,
   "metadata": {
    "collapsed": true
   },
   "outputs": [],
   "source": []
  }
 ],
 "metadata": {
  "kernelspec": {
   "display_name": "Python 3",
   "language": "python",
   "name": "python3"
  },
  "language_info": {
   "codemirror_mode": {
    "name": "ipython",
    "version": 3
   },
   "file_extension": ".py",
   "mimetype": "text/x-python",
   "name": "python",
   "nbconvert_exporter": "python",
   "pygments_lexer": "ipython3",
   "version": "3.7.3"
  }
 },
 "nbformat": 4,
 "nbformat_minor": 2
}
